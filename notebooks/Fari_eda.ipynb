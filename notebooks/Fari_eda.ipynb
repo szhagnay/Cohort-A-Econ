{
 "cells": [
  {
   "cell_type": "markdown",
   "id": "eb87ea65",
   "metadata": {},
   "source": []
  },
  {
   "cell_type": "markdown",
   "id": "5811a6a3",
   "metadata": {},
   "source": []
  },
  {
   "cell_type": "code",
   "execution_count": 1,
   "id": "63b118fe",
   "metadata": {},
   "outputs": [],
   "source": [
    "# Import necessary libraries\n",
    "from scipy.stats import pearsonr # for correlation calculation\n",
    "import pandas as pd # for data manipulation using DataFrames\n",
    "import numpy as np # for numerical operations \n",
    "\n",
    "import seaborn as sns # for data visualization \n",
    "import matplotlib.pyplot as plt # for data visualization\n",
    "import matplotlib.ticker as xticks # for axis formatting\n",
    "import plotly.express as px # for interactive plots\n",
    "import math # for mathematical operations not found in numpy or native python..."
   ]
  },
  {
   "cell_type": "code",
   "execution_count": null,
   "id": "b03ab902",
   "metadata": {},
   "outputs": [],
   "source": []
  }
 ],
 "metadata": {
  "kernelspec": {
   "display_name": "ds",
   "language": "python",
   "name": "python3"
  },
  "language_info": {
   "codemirror_mode": {
    "name": "ipython",
    "version": 3
   },
   "file_extension": ".py",
   "mimetype": "text/x-python",
   "name": "python",
   "nbconvert_exporter": "python",
   "pygments_lexer": "ipython3",
   "version": "3.12.9"
  }
 },
 "nbformat": 4,
 "nbformat_minor": 5
}
