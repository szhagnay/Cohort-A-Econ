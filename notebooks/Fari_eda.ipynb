{
 "cells": [
  {
   "cell_type": "markdown",
   "id": "5811a6a3",
   "metadata": {},
   "source": [
    "## **Analytical Questions - What is the overall economic health of Americans?**\n",
    "1.  **How much liquidity do Americans have?**\n",
    "2.\tWhat does disposable income look like for Americans over time? What is the comparison between ‘poor’ and ‘wealthy' areas(s)/region(s). Can I normalize the overall dataset with this approach–maybe I can use an overlay of cities and towns, etc..?\n",
    "3. **What are people’s spending habits? how are people spending over time, more or less?** \n",
    "4. Can I use this to help better understand trends like housing, food, healthcare spending, etc. What are Americans doing with their disposable income?\n",
    "4.\t **Are Americans enjoying economic growth over time? Or are there economic decline in earnings?**\n",
    "--------------------------------------------------------------------------------------------------------------------\n",
    "- (JC): How does income correlate with specific components of the cost of living (e.g., housing affordability, food prices)? \n",
    "- (JC): Have certain components of the cost of living increased at a faster rate than income in some areas? \n",
    "- (JD): How did import/export volumes fluctuate monthly across major East Coast ports in 2024?\n",
    "- (FL): **How are people spending over time, more or less?**\n",
    "- (FL): **How much disposable income do Americans have over time?** \n",
    "- (FL): **What does the cost of living look like for North Americans?** \n",
    "- **Note:** I'll be using one or two of these question in my EDA. And the following questions below \n",
    "\n",
    "\n"
   ]
  },
  {
   "cell_type": "code",
   "execution_count": 1,
   "id": "63b118fe",
   "metadata": {},
   "outputs": [],
   "source": [
    "# Import necessary libraries\n",
    "from scipy.stats import pearsonr # for correlation calculation\n",
    "import pandas as pd # for data manipulation using DataFrames\n",
    "import numpy as np # for numerical operations \n",
    "\n",
    "import seaborn as sns # for data visualization \n",
    "import matplotlib.pyplot as plt # for data visualization\n",
    "import matplotlib.ticker as xticks # for axis formatting\n",
    "import plotly.express as px # for interactive plots\n",
    "import math # for mathematical operations not found in numpy or native python..."
   ]
  },
  {
   "cell_type": "code",
   "execution_count": null,
   "id": "b03ab902",
   "metadata": {},
   "outputs": [],
   "source": []
  }
 ],
 "metadata": {
  "kernelspec": {
   "display_name": "ds",
   "language": "python",
   "name": "python3"
  },
  "language_info": {
   "codemirror_mode": {
    "name": "ipython",
    "version": 3
   },
   "file_extension": ".py",
   "mimetype": "text/x-python",
   "name": "python",
   "nbconvert_exporter": "python",
   "pygments_lexer": "ipython3",
   "version": "3.12.9"
  }
 },
 "nbformat": 4,
 "nbformat_minor": 5
}
